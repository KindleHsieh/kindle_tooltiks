{
 "cells": [
  {
   "cell_type": "code",
   "execution_count": 3,
   "metadata": {},
   "outputs": [],
   "source": [
    "while webpags <= article_pages:\n",
    "\n",
    "    for url in URL_text:\n",
    "        print(url)\n",
    "        page = requests.get(url + \"&p=\" + str(webpags),\n",
    "                            headers = {\"user-agent\":\"Mozilla/5.0 (Windows NT 10.0; Win64; x64) AppleWebKit/537.36 (KHTML, like Gecko) Chrome/80.0.3987.163 Safari/537.36\"})\n",
    "        soup = BeautifulSoup(page.text, 'html.parser')\n",
    "        a_tag3 = soup.find_all(\"article\")#內文\n",
    "        for i in a_tag3:\n",
    "            article_text.append(i.text.replace(\"\\n\", \"\").replace(\"                                \", \"\")\n",
    "                            .replace(\"\\xa0\",\"\").replace(\"                    \",\"\").replace(\"                \",\"\"))\n",
    "            webpags = webpags+1\n",
    "        print(article_text)\n",
    "print(\"結束\")"
   ]
  }
 ],
 "metadata": {
  "kernelspec": {
   "display_name": "Python 3",
   "language": "python",
   "name": "python3"
  },
  "language_info": {
   "codemirror_mode": {
    "name": "ipython",
    "version": 3
   },
   "file_extension": ".py",
   "mimetype": "text/x-python",
   "name": "python",
   "nbconvert_exporter": "python",
   "pygments_lexer": "ipython3",
   "version": "3.7.0"
  }
 },
 "nbformat": 4,
 "nbformat_minor": 2
}
